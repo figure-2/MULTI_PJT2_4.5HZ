{
 "cells": [
  {
   "cell_type": "code",
   "execution_count": 1,
   "metadata": {},
   "outputs": [
    {
     "name": "stdout",
     "output_type": "stream",
     "text": [
      "Requirement already satisfied: passlib in /home/ubuntu/miniconda3/envs/4.5HZ/lib/python3.8/site-packages (1.7.4)\n",
      "Note: you may need to restart the kernel to use updated packages.\n"
     ]
    }
   ],
   "source": [
    "pip install passlib"
   ]
  },
  {
   "cell_type": "code",
   "execution_count": 2,
   "metadata": {},
   "outputs": [],
   "source": [
    "import pandas as pd\n",
    "from faker import Faker\n",
    "import random\n",
    "import string\n",
    "from datetime import datetime, timedelta"
   ]
  },
  {
   "cell_type": "code",
   "execution_count": 3,
   "metadata": {},
   "outputs": [
    {
     "name": "stdout",
     "output_type": "stream",
     "text": [
      "pbkdf2_sha256$600000$4AKo3p0Jfhoi3EOyuYWTsXuGHUs5VLmc3hwmxJNSkdPVhNy6bS6ZJmAOpA5H9KzPx1knbCUX=\n"
     ]
    }
   ],
   "source": [
    "# 대문자, 소문자 (중간 $는 생략)\n",
    "def generate_pwd(length):\n",
    "    characters = string.ascii_letters + string.digits\n",
    "    return ''.join(random.choice(characters) for _ in range(length))\n",
    "\n",
    "# 맨뒤 '='\n",
    "def equal(s, length):\n",
    "    return s + '=' * (length - len(s))\n",
    "\n",
    "random_pwd = generate_pwd(72)\n",
    "\n",
    "pwd = \"pbkdf2_sha256$600000$\" + equal(random_pwd, 73)\n",
    "\n",
    "print(pwd)"
   ]
  },
  {
   "cell_type": "code",
   "execution_count": 62,
   "metadata": {},
   "outputs": [],
   "source": [
    "current_date = datetime.now()\n",
    "data = []\n",
    "\n",
    "for user_number in range(7, 1002):\n",
    "    \n",
    "    \n",
    "    # 비밀번호 랜덤 생성\n",
    "    # 대문자, 소문자 (중간 $는 생략)\n",
    "    def generate_pwd(length):\n",
    "        characters = string.ascii_letters + string.digits\n",
    "        return ''.join(random.choice(characters) for _ in range(length))\n",
    "\n",
    "    # 맨뒤 '='\n",
    "    def equal(s, length):\n",
    "        return s + '=' * (length - len(s))\n",
    "    random_pwd = generate_pwd(72)\n",
    "    pwd = \"pbkdf2_sha256$600000$\" + equal(random_pwd, 73)\n",
    "    \n",
    "\n",
    "    id = str(user_number)\n",
    "    username = fake.name()\n",
    "    nickname = fake.lexify('?????').lower()  # 영어 다섯자리\n",
    "    password = pwd\n",
    "    \n",
    "    random_time = timedelta(days=random.randint(0, (datetime(2023, 12, 31) - current_date).days),\n",
    "                            seconds=random.randint(0, 24*60*60))\n",
    "    last_login = (current_date + random_time).strftime('%Y-%m-%d %H:%M:%S.%f')\n",
    "\n",
    "    # 나이 비율\n",
    "    age_distribution = random.choices(['10대', '20대', '30대', '40대', '50대'],\n",
    "                                      weights=[0.25, 0.30, 0.20, 0.145, 0.05])[0]\n",
    "\n",
    "    if age_distribution == '10대':\n",
    "        birthdate = current_date - timedelta(days=random.randint(13 * 365, 19 * 365)) # 10대: 13 ~ 19세\n",
    "    elif age_distribution == '20대':\n",
    "        birthdate = current_date - timedelta(days=random.randint(20 * 365, 29 * 365))\n",
    "    elif age_distribution == '30대':\n",
    "        birthdate = current_date - timedelta(days=random.randint(30 * 365, 39 * 365))\n",
    "    elif age_distribution == '40대':\n",
    "        birthdate = current_date - timedelta(days=random.randint(40 * 365, 49 * 365))\n",
    "    else:\n",
    "        birthdate = current_date - timedelta(days=random.randint(50 * 365, 55 * 365)) # 50대: 50 ~ 55세\n",
    "\n",
    "    age = (current_date - birthdate).days // 365\n",
    "\n",
    "    gender = random.choice(['남자', '여자'])\n",
    "\n",
    "    # liked_artist, liked_track, playlist_id 컬럼 생성하고 우선 NaN\n",
    "    liked_artist = liked_track = playlist_id = float('nan')\n",
    "\n",
    "    user_data = {\n",
    "        'id': id,\n",
    "        'password': password,\n",
    "        'last_login': last_login,\n",
    "        'nickname': nickname,\n",
    "        'username': username,\n",
    "        'birthdate': birthdate.strftime('%Y-%m-%d'),\n",
    "        'gender': gender,\n",
    "        'liked_artist': liked_artist,\n",
    "        'liked_track': liked_track,\n",
    "        'is_active': 1,\n",
    "        'is_admin': 0\n",
    "    }\n",
    "    data.append(user_data)\n",
    "\n",
    "df = pd.DataFrame(data)\n",
    "\n",
    "# print(df.sample(10))\n",
    "# print(df[(df['age'] >= 10) & (df['age'] <= 19)].count())\n",
    "# print(df['age'].nunique())\n",
    "df.tail(5)\n",
    "# df['user_id'] = df['user_id'].astype(int) # user_id를 정수타입으로 변환\n",
    "\n",
    "# df.to_csv('dummy_user.csv', index=False)\n"
   ]
  },
  {
   "cell_type": "code",
   "execution_count": 7,
   "metadata": {},
   "outputs": [],
   "source": [
    "fake = Faker('ko_KR')\n",
    "\n",
    "current_date = datetime.now()\n",
    "data = []\n",
    "\n",
    "for user_number in range(7, 10007): \n",
    "    \n",
    "    \n",
    "    # 비밀번호 랜덤 생성\n",
    "    # 대문자, 소문자 (중간 $는 생략)\n",
    "    def generate_pwd(length):\n",
    "        characters = string.ascii_letters + string.digits\n",
    "        return ''.join(random.choice(characters) for _ in range(length))\n",
    "\n",
    "    # 맨뒤 '='\n",
    "    def equal(s, length):\n",
    "        return s + '=' * (length - len(s))\n",
    "    random_pwd = generate_pwd(72)\n",
    "    pwd = \"pbkdf2_sha256$600000$\" + equal(random_pwd, 73)\n",
    "    \n",
    "\n",
    "    id = str(user_number)\n",
    "    username = fake.name()\n",
    "    nickname = fake.lexify('?????').lower()  # 영어 다섯자리\n",
    "    password = pwd\n",
    "    \n",
    "    random_time = timedelta(days=random.randint(0, (datetime(2023, 12, 31) - current_date).days),\n",
    "                            seconds=random.randint(0, 24*60*60))\n",
    "    last_login = (current_date + random_time).strftime('%Y-%m-%d %H:%M:%S.%f')\n",
    "\n",
    "    # 나이 비율\n",
    "    age_distribution = random.choices(['10대', '20대', '30대', '40대', '50대'],\n",
    "                                      weights=[0.25, 0.30, 0.20, 0.145, 0.05])[0]\n",
    "\n",
    "    if age_distribution == '10대':\n",
    "        birthdate = current_date - timedelta(days=random.randint(13 * 365, 19 * 365)) # 10대: 13 ~ 19세\n",
    "    elif age_distribution == '20대':\n",
    "        birthdate = current_date - timedelta(days=random.randint(20 * 365, 29 * 365))\n",
    "    elif age_distribution == '30대':\n",
    "        birthdate = current_date - timedelta(days=random.randint(30 * 365, 39 * 365))\n",
    "    elif age_distribution == '40대':\n",
    "        birthdate = current_date - timedelta(days=random.randint(40 * 365, 49 * 365))\n",
    "    else:\n",
    "        birthdate = current_date - timedelta(days=random.randint(50 * 365, 55 * 365)) # 50대: 50 ~ 55세\n",
    "\n",
    "    age = (current_date - birthdate).days // 365\n",
    "\n",
    "    gender = random.choice(['남자', '여자'])\n",
    "\n",
    "    # liked_artist, liked_track, playlist_id 컬럼 생성하고 우선 NaN\n",
    "    liked_artist = liked_track = playlist_id = float('nan')\n",
    "\n",
    "    user_data = {\n",
    "        'id': id,\n",
    "        'password': password,\n",
    "        'last_login': last_login,\n",
    "        'nickname': nickname,\n",
    "        'username': username,\n",
    "        'birth_date': birthdate.strftime('%Y-%m-%d'),\n",
    "        'gender': gender,\n",
    "        'liked_artist': liked_artist,\n",
    "        'liked_track': liked_track,\n",
    "        'is_active': 1,\n",
    "        'is_admin': 0\n",
    "    }\n",
    "    data.append(user_data)\n",
    "\n",
    "df = pd.DataFrame(data)\n",
    "\n",
    "df.tail(5)\n",
    "\n",
    "df.to_csv('/home/ubuntu/project/4.5HZ/Data/Dummy_User/dummy_user2.csv', index=False)\n"
   ]
  },
  {
   "cell_type": "code",
   "execution_count": null,
   "metadata": {},
   "outputs": [],
   "source": []
  },
  {
   "cell_type": "code",
   "execution_count": null,
   "metadata": {},
   "outputs": [],
   "source": []
  },
  {
   "cell_type": "code",
   "execution_count": null,
   "metadata": {},
   "outputs": [],
   "source": []
  },
  {
   "cell_type": "code",
   "execution_count": null,
   "metadata": {},
   "outputs": [],
   "source": []
  },
  {
   "cell_type": "code",
   "execution_count": null,
   "metadata": {},
   "outputs": [],
   "source": []
  },
  {
   "cell_type": "code",
   "execution_count": null,
   "metadata": {},
   "outputs": [],
   "source": []
  },
  {
   "cell_type": "code",
   "execution_count": null,
   "metadata": {},
   "outputs": [],
   "source": []
  },
  {
   "cell_type": "code",
   "execution_count": null,
   "metadata": {},
   "outputs": [],
   "source": []
  },
  {
   "cell_type": "code",
   "execution_count": null,
   "metadata": {},
   "outputs": [],
   "source": []
  },
  {
   "cell_type": "code",
   "execution_count": null,
   "metadata": {},
   "outputs": [],
   "source": []
  },
  {
   "cell_type": "code",
   "execution_count": null,
   "metadata": {},
   "outputs": [],
   "source": []
  },
  {
   "cell_type": "code",
   "execution_count": null,
   "metadata": {},
   "outputs": [],
   "source": []
  },
  {
   "cell_type": "code",
   "execution_count": null,
   "metadata": {},
   "outputs": [],
   "source": []
  },
  {
   "cell_type": "code",
   "execution_count": null,
   "metadata": {},
   "outputs": [],
   "source": []
  },
  {
   "cell_type": "code",
   "execution_count": null,
   "metadata": {},
   "outputs": [],
   "source": []
  },
  {
   "cell_type": "code",
   "execution_count": null,
   "metadata": {},
   "outputs": [],
   "source": []
  },
  {
   "cell_type": "code",
   "execution_count": null,
   "metadata": {},
   "outputs": [],
   "source": []
  },
  {
   "cell_type": "code",
   "execution_count": null,
   "metadata": {},
   "outputs": [],
   "source": []
  },
  {
   "cell_type": "code",
   "execution_count": null,
   "metadata": {},
   "outputs": [],
   "source": []
  }
 ],
 "metadata": {
  "kernelspec": {
   "display_name": "4.5HZ",
   "language": "python",
   "name": "python3"
  },
  "language_info": {
   "codemirror_mode": {
    "name": "ipython",
    "version": 3
   },
   "file_extension": ".py",
   "mimetype": "text/x-python",
   "name": "python",
   "nbconvert_exporter": "python",
   "pygments_lexer": "ipython3",
   "version": "3.8.18"
  }
 },
 "nbformat": 4,
 "nbformat_minor": 2
}
